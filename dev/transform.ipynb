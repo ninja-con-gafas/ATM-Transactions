{
 "cells": [
  {
   "cell_type": "code",
   "execution_count": 1,
   "id": "0b23a473",
   "metadata": {},
   "outputs": [
    {
     "data": {
      "application/vnd.jupyter.widget-view+json": {
       "model_id": "5dcbe571840d4f8ca68a61e5aaa6c505",
       "version_major": 2,
       "version_minor": 0
      },
      "text/plain": [
       "VBox()"
      ]
     },
     "metadata": {},
     "output_type": "display_data"
    },
    {
     "name": "stdout",
     "output_type": "stream",
     "text": [
      "Starting Spark application\n"
     ]
    },
    {
     "data": {
      "text/html": [
       "<table>\n",
       "<tr><th>ID</th><th>YARN Application ID</th><th>Kind</th><th>State</th><th>Spark UI</th><th>Driver log</th><th>Current session?</th></tr><tr><td>4</td><td>application_1653104322853_0006</td><td>pyspark</td><td>idle</td><td><a target=\"_blank\" href=\"http://ip-10-0-0-73.ec2.internal:20888/proxy/application_1653104322853_0006/\">Link</a></td><td><a target=\"_blank\" href=\"http://ip-10-0-0-251.ec2.internal:8042/node/containerlogs/container_1653104322853_0006_01_000001/livy\">Link</a></td><td>✔</td></tr></table>"
      ],
      "text/plain": [
       "<IPython.core.display.HTML object>"
      ]
     },
     "metadata": {},
     "output_type": "display_data"
    },
    {
     "data": {
      "application/vnd.jupyter.widget-view+json": {
       "model_id": "",
       "version_major": 2,
       "version_minor": 0
      },
      "text/plain": [
       "FloatProgress(value=0.0, bar_style='info', description='Progress:', layout=Layout(height='25px', width='50%'),…"
      ]
     },
     "metadata": {},
     "output_type": "display_data"
    },
    {
     "name": "stdout",
     "output_type": "stream",
     "text": [
      "SparkSession available as 'spark'.\n"
     ]
    },
    {
     "data": {
      "application/vnd.jupyter.widget-view+json": {
       "model_id": "",
       "version_major": 2,
       "version_minor": 0
      },
      "text/plain": [
       "FloatProgress(value=0.0, bar_style='info', description='Progress:', layout=Layout(height='25px', width='50%'),…"
      ]
     },
     "metadata": {},
     "output_type": "display_data"
    },
    {
     "name": "stdout",
     "output_type": "stream",
     "text": [
      "<pyspark.sql.session.SparkSession object at 0x7f500563cad0>"
     ]
    }
   ],
   "source": [
    "spark"
   ]
  },
  {
   "cell_type": "markdown",
   "id": "44960574",
   "metadata": {},
   "source": [
    "# Define schema"
   ]
  },
  {
   "cell_type": "code",
   "execution_count": 2,
   "id": "bd39b531",
   "metadata": {},
   "outputs": [
    {
     "data": {
      "application/vnd.jupyter.widget-view+json": {
       "model_id": "b8d3530cb34c44388b36464a71d29b1d",
       "version_major": 2,
       "version_minor": 0
      },
      "text/plain": [
       "VBox()"
      ]
     },
     "metadata": {},
     "output_type": "display_data"
    },
    {
     "data": {
      "application/vnd.jupyter.widget-view+json": {
       "model_id": "",
       "version_major": 2,
       "version_minor": 0
      },
      "text/plain": [
       "FloatProgress(value=0.0, bar_style='info', description='Progress:', layout=Layout(height='25px', width='50%'),…"
      ]
     },
     "metadata": {},
     "output_type": "display_data"
    }
   ],
   "source": [
    "from pyspark.sql.types import StructType, StructField, IntegerType, StringType, DoubleType\n",
    "schema = StructType([\n",
    "                        StructField(name='year', dataType=IntegerType(), nullable=True),\n",
    "                        StructField(name='month', dataType=StringType(), nullable=True),\n",
    "                        StructField(name='day', dataType=IntegerType(), nullable=True),\n",
    "                        StructField(name='weekday', dataType=StringType(), nullable=True),\n",
    "                        StructField(name='hour', dataType=IntegerType(), nullable=True),\n",
    "                        StructField(name='atm_status', dataType=StringType(), nullable=True),\n",
    "                        StructField(name='atm_id', dataType=StringType(), nullable=True),\n",
    "                        StructField(name='atm_manufacturer', dataType=StringType(), nullable=True),\n",
    "                        StructField(name='atm_location', dataType=StringType(), nullable=True),\n",
    "                        StructField(name='atm_streetname', dataType=StringType(), nullable=True),\n",
    "                        StructField(name='atm_street_number', dataType=IntegerType(), nullable=True),\n",
    "                        StructField(name='atm_zipcode', dataType=IntegerType(), nullable=True),\n",
    "                        StructField(name='atm_lat', dataType=DoubleType(), nullable=True),\n",
    "                        StructField(name='atm_lon', dataType=DoubleType(), nullable=True),\n",
    "                        StructField(name='currency', dataType=StringType(), nullable=True),\n",
    "                        StructField(name='card_type', dataType=StringType(), nullable=True),\n",
    "                        StructField(name='transaction_amount', dataType=IntegerType(), nullable=True),\n",
    "                        StructField(name='service', dataType=StringType(), nullable=True),\n",
    "                        StructField(name='message_code', dataType=StringType(), nullable=True),\n",
    "                        StructField(name='message_text', dataType=StringType(), nullable=True),\n",
    "                        StructField(name='weather_lat', dataType=DoubleType(), nullable=True),\n",
    "                        StructField(name='weather_lon', dataType=DoubleType(), nullable=True),\n",
    "                        StructField(name='weather_city_id', dataType=IntegerType(), nullable=True),\n",
    "                        StructField(name='weather_city_name', dataType=StringType(), nullable=True),\n",
    "                        StructField(name='temp', dataType=DoubleType(), nullable=True),\n",
    "                        StructField(name='pressure', dataType=IntegerType(), nullable=True),\n",
    "                        StructField(name='humidity', dataType=IntegerType(), nullable=True),\n",
    "                        StructField(name='wind_speed', dataType=IntegerType(), nullable=True),\n",
    "                        StructField(name='wind_deg', dataType=IntegerType(), nullable=True),\n",
    "                        StructField(name='rain_3h', dataType=DoubleType(), nullable=True),\n",
    "                        StructField(name='clouds_all', dataType=IntegerType(), nullable=True),\n",
    "                        StructField(name='weather_id', dataType=IntegerType(), nullable=True),\n",
    "                        StructField(name='weather_main', dataType=StringType(), nullable=True),\n",
    "                        StructField(name='weather_description', dataType=StringType(), nullable=True)\n",
    "                ])"
   ]
  },
  {
   "cell_type": "markdown",
   "id": "0e0f6a66",
   "metadata": {},
   "source": [
    "# Read the data into a dataframe and verify the records loaded"
   ]
  },
  {
   "cell_type": "code",
   "execution_count": 3,
   "id": "76e27f05",
   "metadata": {},
   "outputs": [
    {
     "data": {
      "application/vnd.jupyter.widget-view+json": {
       "model_id": "cea19f92dcba4df88e673e57e3bb22bd",
       "version_major": 2,
       "version_minor": 0
      },
      "text/plain": [
       "VBox()"
      ]
     },
     "metadata": {},
     "output_type": "display_data"
    },
    {
     "data": {
      "application/vnd.jupyter.widget-view+json": {
       "model_id": "",
       "version_major": 2,
       "version_minor": 0
      },
      "text/plain": [
       "FloatProgress(value=0.0, bar_style='info', description='Progress:', layout=Layout(height='25px', width='50%'),…"
      ]
     },
     "metadata": {},
     "output_type": "display_data"
    },
    {
     "name": "stdout",
     "output_type": "stream",
     "text": [
      "root\n",
      " |-- year: integer (nullable = true)\n",
      " |-- month: string (nullable = true)\n",
      " |-- day: integer (nullable = true)\n",
      " |-- weekday: string (nullable = true)\n",
      " |-- hour: integer (nullable = true)\n",
      " |-- atm_status: string (nullable = true)\n",
      " |-- atm_id: string (nullable = true)\n",
      " |-- atm_manufacturer: string (nullable = true)\n",
      " |-- atm_location: string (nullable = true)\n",
      " |-- atm_streetname: string (nullable = true)\n",
      " |-- atm_street_number: integer (nullable = true)\n",
      " |-- atm_zipcode: integer (nullable = true)\n",
      " |-- atm_lat: double (nullable = true)\n",
      " |-- atm_lon: double (nullable = true)\n",
      " |-- currency: string (nullable = true)\n",
      " |-- card_type: string (nullable = true)\n",
      " |-- transaction_amount: integer (nullable = true)\n",
      " |-- service: string (nullable = true)\n",
      " |-- message_code: string (nullable = true)\n",
      " |-- message_text: string (nullable = true)\n",
      " |-- weather_lat: double (nullable = true)\n",
      " |-- weather_lon: double (nullable = true)\n",
      " |-- weather_city_id: integer (nullable = true)\n",
      " |-- weather_city_name: string (nullable = true)\n",
      " |-- temp: double (nullable = true)\n",
      " |-- pressure: integer (nullable = true)\n",
      " |-- humidity: integer (nullable = true)\n",
      " |-- wind_speed: integer (nullable = true)\n",
      " |-- wind_deg: integer (nullable = true)\n",
      " |-- rain_3h: double (nullable = true)\n",
      " |-- clouds_all: integer (nullable = true)\n",
      " |-- weather_id: integer (nullable = true)\n",
      " |-- weather_main: string (nullable = true)\n",
      " |-- weather_description: string (nullable = true)\n",
      "\n",
      "2468572"
     ]
    }
   ],
   "source": [
    "transactions = spark.read.csv(\"SRC_ATM_TRANS/part-m-00000\", header=False, schema=schema)\n",
    "transactions.printSchema()\n",
    "transactions.select(\"*\").count()"
   ]
  },
  {
   "cell_type": "markdown",
   "id": "6a9d1494",
   "metadata": {},
   "source": [
    "# Create the dimension and fact tables"
   ]
  },
  {
   "cell_type": "markdown",
   "id": "3f41817b",
   "metadata": {},
   "source": [
    "### Dimension for card types"
   ]
  },
  {
   "cell_type": "code",
   "execution_count": 4,
   "id": "4b2c20b6",
   "metadata": {},
   "outputs": [
    {
     "data": {
      "application/vnd.jupyter.widget-view+json": {
       "model_id": "5510f62203864a3dbca88514ae33bf36",
       "version_major": 2,
       "version_minor": 0
      },
      "text/plain": [
       "VBox()"
      ]
     },
     "metadata": {},
     "output_type": "display_data"
    },
    {
     "data": {
      "application/vnd.jupyter.widget-view+json": {
       "model_id": "",
       "version_major": 2,
       "version_minor": 0
      },
      "text/plain": [
       "FloatProgress(value=0.0, bar_style='info', description='Progress:', layout=Layout(height='25px', width='50%'),…"
      ]
     },
     "metadata": {},
     "output_type": "display_data"
    }
   ],
   "source": [
    "from pyspark.sql.window import Window\n",
    "from pyspark.sql.functions import row_number, col\n",
    "\n",
    "dim_card_type = transactions.select(\"card_type\").distinct()\\\n",
    "                            .withColumn(\"card_type_id\", \n",
    "                                        row_number().over(Window.partitionBy().orderBy(col(\"card_type\"))))\\\n",
    "                            .select(\"card_type_id\", \"card_type\")\n"
   ]
  },
  {
   "cell_type": "markdown",
   "id": "9ea00e41",
   "metadata": {},
   "source": [
    "### Validate dim_card_type"
   ]
  },
  {
   "cell_type": "code",
   "execution_count": 5,
   "id": "fb85b468",
   "metadata": {
    "scrolled": true
   },
   "outputs": [
    {
     "data": {
      "application/vnd.jupyter.widget-view+json": {
       "model_id": "85ced408f20645e5a6537ffb5fbab8e8",
       "version_major": 2,
       "version_minor": 0
      },
      "text/plain": [
       "VBox()"
      ]
     },
     "metadata": {},
     "output_type": "display_data"
    },
    {
     "data": {
      "application/vnd.jupyter.widget-view+json": {
       "model_id": "",
       "version_major": 2,
       "version_minor": 0
      },
      "text/plain": [
       "FloatProgress(value=0.0, bar_style='info', description='Progress:', layout=Layout(height='25px', width='50%'),…"
      ]
     },
     "metadata": {},
     "output_type": "display_data"
    },
    {
     "name": "stdout",
     "output_type": "stream",
     "text": [
      "root\n",
      " |-- card_type_id: integer (nullable = true)\n",
      " |-- card_type: string (nullable = true)\n",
      "\n",
      "+------------+--------------------+\n",
      "|card_type_id|           card_type|\n",
      "+------------+--------------------+\n",
      "|           1|              CIRRUS|\n",
      "|           2|             Dankort|\n",
      "|           3|     Dankort - on-us|\n",
      "|           4|         HÃƒÂ¦vekort|\n",
      "|           5| HÃƒÂ¦vekort - on-us|\n",
      "|           6|             Maestro|\n",
      "|           7|          MasterCard|\n",
      "|           8|  Mastercard - on-us|\n",
      "|           9|                VISA|\n",
      "|          10|        Visa Dankort|\n",
      "|          11|Visa Dankort - on-us|\n",
      "|          12|            VisaPlus|\n",
      "+------------+--------------------+\n",
      "\n",
      "12"
     ]
    }
   ],
   "source": [
    "dim_card_type.printSchema()\n",
    "dim_card_type.show()\n",
    "dim_card_type.select(\"*\").count()"
   ]
  },
  {
   "cell_type": "markdown",
   "id": "b3b90f8b",
   "metadata": {},
   "source": [
    "### Dimension for dates"
   ]
  },
  {
   "cell_type": "code",
   "execution_count": 6,
   "id": "e7c69d41",
   "metadata": {
    "scrolled": true
   },
   "outputs": [
    {
     "data": {
      "application/vnd.jupyter.widget-view+json": {
       "model_id": "1d24593425054cc0bc77efce76dbd177",
       "version_major": 2,
       "version_minor": 0
      },
      "text/plain": [
       "VBox()"
      ]
     },
     "metadata": {},
     "output_type": "display_data"
    },
    {
     "data": {
      "application/vnd.jupyter.widget-view+json": {
       "model_id": "",
       "version_major": 2,
       "version_minor": 0
      },
      "text/plain": [
       "FloatProgress(value=0.0, bar_style='info', description='Progress:', layout=Layout(height='25px', width='50%'),…"
      ]
     },
     "metadata": {},
     "output_type": "display_data"
    }
   ],
   "source": [
    "from pyspark.sql.functions import concat_ws, lit, unix_timestamp\n",
    "\n",
    "timestamp_format = \"yyyy-MMM-dd HH:mm:ss\"\n",
    "\n",
    "dim_date = transactions.select(\"year\", \"month\", \"day\", \"hour\", \"weekday\")\\\n",
    "                       .withColumn(\"full_date_time\", \n",
    "                                   unix_timestamp(\n",
    "                                       concat_ws(\" \", \n",
    "                                                 concat_ws('-', col(\"year\"), col(\"month\"), col(\"day\")), \n",
    "                                                 concat_ws(':', col(\"hour\"), lit(\"00:00\"))\n",
    "                                                ), \n",
    "                                       timestamp_format\n",
    "                                   ).cast(\"timestamp\")\n",
    "                                  )\\\n",
    "                        .distinct()\\\n",
    "                        .withColumn(\"date_id\", row_number().over(Window.partitionBy().orderBy(col(\"full_date_time\"))))\\\n",
    "                        .select(\"date_id\", \"full_date_time\", \"year\", \"month\", \"day\", \"hour\", \"weekday\")"
   ]
  },
  {
   "cell_type": "markdown",
   "id": "575cf2d8",
   "metadata": {},
   "source": [
    "### Validate dim_date"
   ]
  },
  {
   "cell_type": "code",
   "execution_count": 7,
   "id": "02a4b17d",
   "metadata": {},
   "outputs": [
    {
     "data": {
      "application/vnd.jupyter.widget-view+json": {
       "model_id": "7bd101c566a14e5c9ffcfe981f394af6",
       "version_major": 2,
       "version_minor": 0
      },
      "text/plain": [
       "VBox()"
      ]
     },
     "metadata": {},
     "output_type": "display_data"
    },
    {
     "data": {
      "application/vnd.jupyter.widget-view+json": {
       "model_id": "",
       "version_major": 2,
       "version_minor": 0
      },
      "text/plain": [
       "FloatProgress(value=0.0, bar_style='info', description='Progress:', layout=Layout(height='25px', width='50%'),…"
      ]
     },
     "metadata": {},
     "output_type": "display_data"
    },
    {
     "name": "stdout",
     "output_type": "stream",
     "text": [
      "root\n",
      " |-- date_id: integer (nullable = true)\n",
      " |-- full_date_time: timestamp (nullable = true)\n",
      " |-- year: integer (nullable = true)\n",
      " |-- month: string (nullable = true)\n",
      " |-- day: integer (nullable = true)\n",
      " |-- hour: integer (nullable = true)\n",
      " |-- weekday: string (nullable = true)\n",
      "\n",
      "+-------+-------------------+----+-------+---+----+-------+\n",
      "|date_id|     full_date_time|year|  month|day|hour|weekday|\n",
      "+-------+-------------------+----+-------+---+----+-------+\n",
      "|      1|2017-01-01 00:00:00|2017|January|  1|   0| Sunday|\n",
      "|      2|2017-01-01 01:00:00|2017|January|  1|   1| Sunday|\n",
      "|      3|2017-01-01 02:00:00|2017|January|  1|   2| Sunday|\n",
      "|      4|2017-01-01 03:00:00|2017|January|  1|   3| Sunday|\n",
      "|      5|2017-01-01 04:00:00|2017|January|  1|   4| Sunday|\n",
      "|      6|2017-01-01 05:00:00|2017|January|  1|   5| Sunday|\n",
      "|      7|2017-01-01 06:00:00|2017|January|  1|   6| Sunday|\n",
      "|      8|2017-01-01 07:00:00|2017|January|  1|   7| Sunday|\n",
      "|      9|2017-01-01 08:00:00|2017|January|  1|   8| Sunday|\n",
      "|     10|2017-01-01 09:00:00|2017|January|  1|   9| Sunday|\n",
      "|     11|2017-01-01 10:00:00|2017|January|  1|  10| Sunday|\n",
      "|     12|2017-01-01 11:00:00|2017|January|  1|  11| Sunday|\n",
      "|     13|2017-01-01 12:00:00|2017|January|  1|  12| Sunday|\n",
      "|     14|2017-01-01 13:00:00|2017|January|  1|  13| Sunday|\n",
      "|     15|2017-01-01 14:00:00|2017|January|  1|  14| Sunday|\n",
      "|     16|2017-01-01 15:00:00|2017|January|  1|  15| Sunday|\n",
      "|     17|2017-01-01 16:00:00|2017|January|  1|  16| Sunday|\n",
      "|     18|2017-01-01 17:00:00|2017|January|  1|  17| Sunday|\n",
      "|     19|2017-01-01 18:00:00|2017|January|  1|  18| Sunday|\n",
      "|     20|2017-01-01 19:00:00|2017|January|  1|  19| Sunday|\n",
      "+-------+-------------------+----+-------+---+----+-------+\n",
      "only showing top 20 rows\n",
      "\n",
      "8685"
     ]
    }
   ],
   "source": [
    "dim_date.printSchema()\n",
    "dim_date.show()\n",
    "dim_date.select(\"*\").count()"
   ]
  },
  {
   "cell_type": "markdown",
   "id": "1142627a",
   "metadata": {},
   "source": [
    "### Dimension for locations"
   ]
  },
  {
   "cell_type": "code",
   "execution_count": 8,
   "id": "ed72a92f",
   "metadata": {},
   "outputs": [
    {
     "data": {
      "application/vnd.jupyter.widget-view+json": {
       "model_id": "7f4f7d9d9ffc457cb6ab60e5cf09a69e",
       "version_major": 2,
       "version_minor": 0
      },
      "text/plain": [
       "VBox()"
      ]
     },
     "metadata": {},
     "output_type": "display_data"
    },
    {
     "data": {
      "application/vnd.jupyter.widget-view+json": {
       "model_id": "",
       "version_major": 2,
       "version_minor": 0
      },
      "text/plain": [
       "FloatProgress(value=0.0, bar_style='info', description='Progress:', layout=Layout(height='25px', width='50%'),…"
      ]
     },
     "metadata": {},
     "output_type": "display_data"
    }
   ],
   "source": [
    "dim_location = transactions.select(\"atm_location\", \"atm_streetname\", \"atm_street_number\", \n",
    "                                   \"atm_zipcode\", \"atm_lat\", \"atm_lon\")\\\n",
    "                           .withColumnRenamed(\"atm_location\", \"location\")\\\n",
    "                           .withColumnRenamed(\"atm_streetname\", \"streetname\")\\\n",
    "                           .withColumnRenamed(\"atm_street_number\", \"street_number\")\\\n",
    "                           .withColumnRenamed(\"atm_zipcode\", \"zipcode\")\\\n",
    "                           .withColumnRenamed(\"atm_lat\", \"lat\")\\\n",
    "                           .withColumnRenamed(\"atm_lon\", \"lon\")\\\n",
    "                           .distinct()\\\n",
    "                           .withColumn(\"location_id\", row_number().over(Window.partitionBy().orderBy(col(\"zipcode\"))))\\\n",
    "                           .select(\"location_id\", \"location\", \"streetname\",\n",
    "                                  \"street_number\", \"zipcode\", \"lat\", \"lon\")"
   ]
  },
  {
   "cell_type": "markdown",
   "id": "40ff9481",
   "metadata": {},
   "source": [
    "### Validate dim_location"
   ]
  },
  {
   "cell_type": "code",
   "execution_count": 9,
   "id": "a2a7ab22",
   "metadata": {},
   "outputs": [
    {
     "data": {
      "application/vnd.jupyter.widget-view+json": {
       "model_id": "1eba8b72061b4b4384cff2c170521c84",
       "version_major": 2,
       "version_minor": 0
      },
      "text/plain": [
       "VBox()"
      ]
     },
     "metadata": {},
     "output_type": "display_data"
    },
    {
     "data": {
      "application/vnd.jupyter.widget-view+json": {
       "model_id": "",
       "version_major": 2,
       "version_minor": 0
      },
      "text/plain": [
       "FloatProgress(value=0.0, bar_style='info', description='Progress:', layout=Layout(height='25px', width='50%'),…"
      ]
     },
     "metadata": {},
     "output_type": "display_data"
    },
    {
     "name": "stdout",
     "output_type": "stream",
     "text": [
      "root\n",
      " |-- location_id: integer (nullable = true)\n",
      " |-- location: string (nullable = true)\n",
      " |-- streetname: string (nullable = true)\n",
      " |-- street_number: integer (nullable = true)\n",
      " |-- zipcode: integer (nullable = true)\n",
      " |-- lat: double (nullable = true)\n",
      " |-- lon: double (nullable = true)\n",
      "\n",
      "+-----------+--------------------+------------------+-------------+-------+------+------+\n",
      "|location_id|            location|        streetname|street_number|zipcode|   lat|   lon|\n",
      "+-----------+--------------------+------------------+-------------+-------+------+------+\n",
      "|          1|Intern  KÃƒÂ¸benhavn|  RÃƒÂ¥dhuspladsen|           75|   1550|55.676|12.571|\n",
      "|          2|        KÃƒÂ¸benhavn|    Regnbuepladsen|            5|   1550|55.676|12.571|\n",
      "|          3|       Frederiksberg|   Gammel Kongevej|          157|   1850|55.677|12.537|\n",
      "|          4|              Lyngby|       Jernbanevej|            6|   2800|55.772|  12.5|\n",
      "|          5|        HelsingÃƒÂ¸r|    Sct. Olai Gade|           39|   3000|56.036|12.612|\n",
      "|          6|         HillerÃƒÂ¸d|  KÃƒÂ¸benhavnsvej|           31|   3400|55.933|12.314|\n",
      "|          7|HillerÃƒÂ¸d IdrÃƒ...|        Milnersvej|           39|   3400|55.921|12.299|\n",
      "|          8|          Svogerslev|      BrÃƒÂ¸nsager|            1|   4000|55.634|12.018|\n",
      "|          9|            Roskilde|  KÃƒÂ¸benhavnsvej|           65|   4000|55.642|12.106|\n",
      "|         10|    Intern  Roskilde|  KÃƒÂ¸benhavnsvej|           65|   4000|55.642|12.106|\n",
      "|         11|            Slagelse|Mariendals AllÃƒÂ¨|           29|   4200|55.398|11.342|\n",
      "|         12|            Slagelse|   Mariendals Alle|           29|   4200|55.398|11.342|\n",
      "|         13|           HolbÃƒÂ¦k|       Slotsvolden|            7|   4300|55.718|11.704|\n",
      "|         14|    Intern HolbÃƒÂ¦k|       Slotsvolden|            7|   4300|55.718|11.704|\n",
      "|         15|             KÃƒÂ¸ge|    SÃƒÂ¸ndre Alle|            1|   4600|55.454|12.181|\n",
      "|         16|          NÃƒÂ¦stved|      Farimagsgade|            8|   4700| 55.69|12.575|\n",
      "|         17|          NÃƒÂ¦stved|       Farimagsvej|            8|   4700|55.233|11.763|\n",
      "|         18|      Intern  Odense|      FÃƒÂ¦lledvej|            3|   5000|55.394| 10.37|\n",
      "|         19|              Odense|      FÃƒÂ¦lledvej|            3|   5000|55.394| 10.37|\n",
      "|         20|          Middelfart|           Brogade|            9|   5500|55.507| 9.727|\n",
      "+-----------+--------------------+------------------+-------------+-------+------+------+\n",
      "only showing top 20 rows\n",
      "\n",
      "109"
     ]
    }
   ],
   "source": [
    "dim_location.printSchema()\n",
    "dim_location.show()\n",
    "dim_location.select(\"*\").count()"
   ]
  },
  {
   "cell_type": "markdown",
   "id": "0067b3fe",
   "metadata": {},
   "source": [
    "### Dimension for ATMs"
   ]
  },
  {
   "cell_type": "code",
   "execution_count": 10,
   "id": "2aae229a",
   "metadata": {},
   "outputs": [
    {
     "data": {
      "application/vnd.jupyter.widget-view+json": {
       "model_id": "4abdf1f2aacb495797115c28d7589770",
       "version_major": 2,
       "version_minor": 0
      },
      "text/plain": [
       "VBox()"
      ]
     },
     "metadata": {},
     "output_type": "display_data"
    },
    {
     "data": {
      "application/vnd.jupyter.widget-view+json": {
       "model_id": "",
       "version_major": 2,
       "version_minor": 0
      },
      "text/plain": [
       "FloatProgress(value=0.0, bar_style='info', description='Progress:', layout=Layout(height='25px', width='50%'),…"
      ]
     },
     "metadata": {},
     "output_type": "display_data"
    }
   ],
   "source": [
    "from pyspark.sql.functions import concat\n",
    "\n",
    "dim_atm = transactions.select(\"atm_id\", \"atm_manufacturer\", \"atm_location\", \"atm_streetname\", \"atm_street_number\", \"atm_zipcode\", \"atm_lat\", \"atm_lon\")\\\n",
    "                      .withColumnRenamed(\"atm_id\", \"atm_number\")\\\n",
    "                      .join(other=dim_location, \n",
    "                            on=(\n",
    "                                concat(col(\"atm_location\"), col(\"atm_streetname\"), col(\"atm_street_number\"), \n",
    "                                       col(\"atm_zipcode\"), col(\"atm_lat\"), col(\"atm_lon\")) \n",
    "                                == \n",
    "                                concat(col(\"location\"), col(\"streetname\"), col(\"street_number\"), col(\"zipcode\"), \n",
    "                                       col(\"lat\"), col(\"lon\"))), \n",
    "                            how=\"left\")\\\n",
    "                      .select(\"location_id\", \"atm_number\", \"atm_manufacturer\")\\\n",
    "                      .withColumnRenamed(\"location_id\", \"atm_location_id\")\\\n",
    "                      .distinct()\\\n",
    "                      .withColumn(\"atm_id\", row_number().over(Window.partitionBy().orderBy(col(\"atm_location_id\"))))\\\n",
    "                      .select(\"atm_id\", \"atm_location_id\", \"atm_number\", \"atm_manufacturer\")"
   ]
  },
  {
   "cell_type": "markdown",
   "id": "974fece0",
   "metadata": {},
   "source": [
    "### Validate dim_atm"
   ]
  },
  {
   "cell_type": "code",
   "execution_count": 11,
   "id": "60262212",
   "metadata": {},
   "outputs": [
    {
     "data": {
      "application/vnd.jupyter.widget-view+json": {
       "model_id": "ecca22d1ae7a402eae029578e1aa56c9",
       "version_major": 2,
       "version_minor": 0
      },
      "text/plain": [
       "VBox()"
      ]
     },
     "metadata": {},
     "output_type": "display_data"
    },
    {
     "data": {
      "application/vnd.jupyter.widget-view+json": {
       "model_id": "",
       "version_major": 2,
       "version_minor": 0
      },
      "text/plain": [
       "FloatProgress(value=0.0, bar_style='info', description='Progress:', layout=Layout(height='25px', width='50%'),…"
      ]
     },
     "metadata": {},
     "output_type": "display_data"
    },
    {
     "name": "stdout",
     "output_type": "stream",
     "text": [
      "root\n",
      " |-- atm_id: integer (nullable = true)\n",
      " |-- atm_location_id: integer (nullable = true)\n",
      " |-- atm_number: string (nullable = true)\n",
      " |-- atm_manufacturer: string (nullable = true)\n",
      "\n",
      "+------+---------------+----------+----------------+\n",
      "|atm_id|atm_location_id|atm_number|atm_manufacturer|\n",
      "+------+---------------+----------+----------------+\n",
      "|     1|              1|        85| Diebold Nixdorf|\n",
      "|     2|              2|        95|             NCR|\n",
      "|     3|              3|        47|             NCR|\n",
      "|     4|              4|        44|             NCR|\n",
      "|     5|              5|        46| Diebold Nixdorf|\n",
      "|     6|              6|        86|             NCR|\n",
      "|     7|              7|        57|             NCR|\n",
      "|     8|              8|        22|             NCR|\n",
      "|     9|              9|       106|             NCR|\n",
      "|    10|             10|         4|             NCR|\n",
      "|    11|             11|        31|             NCR|\n",
      "|    12|             12|       113| Diebold Nixdorf|\n",
      "|    13|             13|        90|             NCR|\n",
      "|    14|             14|       110| Diebold Nixdorf|\n",
      "|    15|             14|        26|             NCR|\n",
      "|    16|             15|        56| Diebold Nixdorf|\n",
      "|    17|             16|       112| Diebold Nixdorf|\n",
      "|    18|             17|         1|             NCR|\n",
      "|    19|             18|        25| Diebold Nixdorf|\n",
      "|    20|             19|        98|             NCR|\n",
      "+------+---------------+----------+----------------+\n",
      "only showing top 20 rows\n",
      "\n",
      "113"
     ]
    }
   ],
   "source": [
    "dim_atm.printSchema()\n",
    "dim_atm.show()\n",
    "dim_atm.select(\"*\").count()"
   ]
  },
  {
   "cell_type": "markdown",
   "id": "f35f6a9e",
   "metadata": {},
   "source": [
    "### Fact table"
   ]
  },
  {
   "cell_type": "code",
   "execution_count": 12,
   "id": "497fc238",
   "metadata": {},
   "outputs": [
    {
     "data": {
      "application/vnd.jupyter.widget-view+json": {
       "model_id": "9609d7a547c84b74b4208b4766e04b2c",
       "version_major": 2,
       "version_minor": 0
      },
      "text/plain": [
       "VBox()"
      ]
     },
     "metadata": {},
     "output_type": "display_data"
    },
    {
     "data": {
      "application/vnd.jupyter.widget-view+json": {
       "model_id": "",
       "version_major": 2,
       "version_minor": 0
      },
      "text/plain": [
       "FloatProgress(value=0.0, bar_style='info', description='Progress:', layout=Layout(height='25px', width='50%'),…"
      ]
     },
     "metadata": {},
     "output_type": "display_data"
    }
   ],
   "source": [
    "fact_atm_trans = transactions.select(\"*\")\\\n",
    "                             .join(other=dim_card_type,\n",
    "                                   on=[\"card_type\"],\n",
    "                                   how=\"left\")\\\n",
    "                             .join(other=dim_date,\n",
    "                                   on=[\"year\", \"month\", \"day\", \"hour\", \"weekday\"],\n",
    "                                   how=\"left\")\\\n",
    "                             .withColumnRenamed(\"atm_location\", \"location\")\\\n",
    "                             .withColumnRenamed(\"atm_streetname\", \"streetname\")\\\n",
    "                             .withColumnRenamed(\"atm_street_number\", \"street_number\")\\\n",
    "                             .withColumnRenamed(\"atm_zipcode\", \"zipcode\")\\\n",
    "                             .withColumnRenamed(\"atm_lat\", \"lat\")\\\n",
    "                             .withColumnRenamed(\"atm_lon\", \"lon\")\\\n",
    "                             .join(other=dim_location,\n",
    "                                   on=[\"location\", \"streetname\", \"street_number\", \"zipcode\", \"lat\", \"lon\"],\n",
    "                                   how=\"left\")\\\n",
    "                             .withColumnRenamed(\"location_id\", \"atm_location_id\")\\\n",
    "                             .withColumnRenamed(\"atm_id\", \"atm_number\")\\\n",
    "                             .join(other=dim_atm, \n",
    "                                   on=[\"atm_location_id\", \"atm_number\", \"atm_manufacturer\"],\n",
    "                                   how=\"left\"\n",
    "                                  )\\\n",
    "                             .withColumnRenamed(\"atm_location_id\", \"weather_loc_id\")\\\n",
    "                             .withColumn(\"trans_id\", \n",
    "                                         row_number().over(\n",
    "                                             Window.partitionBy().orderBy(\n",
    "                                                 col(\"weather_loc_id\"), col(\"date_id\"), col(\"card_type_id\"))))\\\n",
    "                             .select(\"trans_id\", \"weather_loc_id\", \"atm_id\", \"date_id\", \"card_type_id\", \n",
    "                                     \"atm_status\", \"currency\", \"service\", \"transaction_amount\", \"message_code\", \n",
    "                                     \"message_text\", \"rain_3h\", \"clouds_all\", \"weather_id\", \"weather_main\", \n",
    "                                     \"weather_description\")"
   ]
  },
  {
   "cell_type": "markdown",
   "id": "37335692",
   "metadata": {},
   "source": [
    "### Validate fact_atm_trans"
   ]
  },
  {
   "cell_type": "code",
   "execution_count": 13,
   "id": "8c00417c",
   "metadata": {},
   "outputs": [
    {
     "data": {
      "application/vnd.jupyter.widget-view+json": {
       "model_id": "d022c59f9ad543aba937fcf63610168f",
       "version_major": 2,
       "version_minor": 0
      },
      "text/plain": [
       "VBox()"
      ]
     },
     "metadata": {},
     "output_type": "display_data"
    },
    {
     "data": {
      "application/vnd.jupyter.widget-view+json": {
       "model_id": "",
       "version_major": 2,
       "version_minor": 0
      },
      "text/plain": [
       "FloatProgress(value=0.0, bar_style='info', description='Progress:', layout=Layout(height='25px', width='50%'),…"
      ]
     },
     "metadata": {},
     "output_type": "display_data"
    },
    {
     "name": "stdout",
     "output_type": "stream",
     "text": [
      "root\n",
      " |-- trans_id: integer (nullable = true)\n",
      " |-- weather_loc_id: integer (nullable = true)\n",
      " |-- atm_id: integer (nullable = true)\n",
      " |-- date_id: integer (nullable = true)\n",
      " |-- card_type_id: integer (nullable = true)\n",
      " |-- atm_status: string (nullable = true)\n",
      " |-- currency: string (nullable = true)\n",
      " |-- service: string (nullable = true)\n",
      " |-- transaction_amount: integer (nullable = true)\n",
      " |-- message_code: string (nullable = true)\n",
      " |-- message_text: string (nullable = true)\n",
      " |-- rain_3h: double (nullable = true)\n",
      " |-- clouds_all: integer (nullable = true)\n",
      " |-- weather_id: integer (nullable = true)\n",
      " |-- weather_main: string (nullable = true)\n",
      " |-- weather_description: string (nullable = true)\n",
      "\n",
      "+--------+--------------+------+-------+------------+----------+--------+----------+------------------+------------+--------------------+-------+----------+----------+------------+-------------------+\n",
      "|trans_id|weather_loc_id|atm_id|date_id|card_type_id|atm_status|currency|   service|transaction_amount|message_code|        message_text|rain_3h|clouds_all|weather_id|weather_main|weather_description|\n",
      "+--------+--------------+------+-------+------------+----------+--------+----------+------------------+------------+--------------------+-------+----------+----------+------------+-------------------+\n",
      "|       1|             1|     1|     15|           9|    Active|     DKK|Withdrawal|              1701|        null|                null|    0.0|        75|       803|      Clouds|      broken clouds|\n",
      "|       2|             1|     1|     15|           9|    Active|     DKK|Withdrawal|              2200|        null|                null|    0.0|        75|       803|      Clouds|      broken clouds|\n",
      "|       3|             1|     1|     15|          11|    Active|     DKK|Withdrawal|               405|        null|                null|    0.0|        75|       803|      Clouds|      broken clouds|\n",
      "|       4|             1|     1|     16|           7|    Active|     DKK|Withdrawal|              1938|        null|                null|    0.0|        75|       803|      Clouds|      broken clouds|\n",
      "|       5|             1|     1|     16|          11|    Active|     DKK|Withdrawal|              3327|        null|                null|    0.0|        75|       803|      Clouds|      broken clouds|\n",
      "|       6|             1|     1|     17|           7|    Active|     DKK|Withdrawal|              8180|        null|                null|    0.0|        75|       803|      Clouds|      broken clouds|\n",
      "|       7|             1|     1|     17|           7|    Active|     DKK|Withdrawal|              2417|        null|                null|    0.0|        75|       803|      Clouds|      broken clouds|\n",
      "|       8|             1|     1|     17|           8|    Active|     DKK|Withdrawal|              2612|        null|                null|    0.0|        75|       803|      Clouds|      broken clouds|\n",
      "|       9|             1|     1|     17|          11|    Active|     DKK|Withdrawal|              2825|        null|                null|    0.0|        75|       803|      Clouds|      broken clouds|\n",
      "|      10|             1|     1|     17|          11|    Active|     DKK|Withdrawal|              2981|        null|                null|    0.0|        75|       803|      Clouds|      broken clouds|\n",
      "|      11|             1|     1|     19|           1|    Active|     DKK|Withdrawal|              3897|        4002|Suspected malfunc...|    0.0|         0|       800|       Clear|       Sky is Clear|\n",
      "|      12|             1|     1|     19|           9|    Active|     DKK|Withdrawal|              7301|        null|                null|    0.0|         0|       800|       Clear|       Sky is Clear|\n",
      "|      13|             1|     1|     21|           8|    Active|     DKK|Withdrawal|              2746|        4002|Suspected malfunc...|    0.0|        75|       803|      Clouds|      broken clouds|\n",
      "|      14|             1|     1|     21|          10|    Active|     DKK|Withdrawal|              8551|        4017|Suspected malfunc...|   null|      null|      null|        null|               null|\n",
      "|      15|             1|     1|     21|          11|    Active|     DKK|Withdrawal|              9358|        null|                null|    0.0|        75|       803|      Clouds|      broken clouds|\n",
      "|      16|             1|     1|     22|           7|    Active|     DKK|Withdrawal|              4531|        4017|Suspected malfunc...|   null|      null|      null|        null|               null|\n",
      "|      17|             1|     1|     22|           7|    Active|     DKK|Withdrawal|              2381|        4002|Suspected malfunc...|    0.0|        75|       803|      Clouds|      broken clouds|\n",
      "|      18|             1|     1|     22|           7|    Active|     DKK|Withdrawal|              6675|        null|                null|    0.0|        75|       803|      Clouds|      broken clouds|\n",
      "|      19|             1|     1|     22|           8|    Active|     DKK|Withdrawal|              5980|        null|                null|    0.0|        75|       803|      Clouds|      broken clouds|\n",
      "|      20|             1|     1|     22|           9|    Active|     DKK|Withdrawal|              9003|        4017|Suspected malfunc...|   null|      null|      null|        null|               null|\n",
      "+--------+--------------+------+-------+------------+----------+--------+----------+------------------+------------+--------------------+-------+----------+----------+------------+-------------------+\n",
      "only showing top 20 rows\n",
      "\n",
      "2468572"
     ]
    }
   ],
   "source": [
    "fact_atm_trans.printSchema()\n",
    "fact_atm_trans.show()\n",
    "fact_atm_trans.select(\"*\").count()"
   ]
  },
  {
   "cell_type": "code",
   "execution_count": null,
   "id": "515d7cd1",
   "metadata": {},
   "outputs": [],
   "source": []
  }
 ],
 "metadata": {
  "kernelspec": {
   "display_name": "PySpark",
   "language": "",
   "name": "pysparkkernel"
  },
  "language_info": {
   "codemirror_mode": {
    "name": "python",
    "version": 2
   },
   "mimetype": "text/x-python",
   "name": "pyspark",
   "pygments_lexer": "python2"
  }
 },
 "nbformat": 4,
 "nbformat_minor": 5
}
