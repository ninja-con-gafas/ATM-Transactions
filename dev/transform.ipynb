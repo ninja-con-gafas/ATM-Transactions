{
 "cells": [
  {
   "cell_type": "code",
   "execution_count": 1,
   "id": "0b23a473",
   "metadata": {},
   "outputs": [
    {
     "data": {
      "application/vnd.jupyter.widget-view+json": {
       "model_id": "5f1c0c8d68c64eab8e2be00825fa799e",
       "version_major": 2,
       "version_minor": 0
      },
      "text/plain": [
       "VBox()"
      ]
     },
     "metadata": {},
     "output_type": "display_data"
    },
    {
     "name": "stdout",
     "output_type": "stream",
     "text": [
      "Starting Spark application\n"
     ]
    },
    {
     "data": {
      "text/html": [
       "<table>\n",
       "<tr><th>ID</th><th>YARN Application ID</th><th>Kind</th><th>State</th><th>Spark UI</th><th>Driver log</th><th>Current session?</th></tr><tr><td>5</td><td>application_1653022088945_0007</td><td>pyspark</td><td>idle</td><td><a target=\"_blank\" href=\"http://ip-10-0-0-176.ec2.internal:20888/proxy/application_1653022088945_0007/\">Link</a></td><td><a target=\"_blank\" href=\"http://ip-10-0-0-116.ec2.internal:8042/node/containerlogs/container_1653022088945_0007_01_000001/livy\">Link</a></td><td>✔</td></tr></table>"
      ],
      "text/plain": [
       "<IPython.core.display.HTML object>"
      ]
     },
     "metadata": {},
     "output_type": "display_data"
    },
    {
     "data": {
      "application/vnd.jupyter.widget-view+json": {
       "model_id": "",
       "version_major": 2,
       "version_minor": 0
      },
      "text/plain": [
       "FloatProgress(value=0.0, bar_style='info', description='Progress:', layout=Layout(height='25px', width='50%'),…"
      ]
     },
     "metadata": {},
     "output_type": "display_data"
    },
    {
     "name": "stdout",
     "output_type": "stream",
     "text": [
      "SparkSession available as 'spark'.\n"
     ]
    },
    {
     "data": {
      "application/vnd.jupyter.widget-view+json": {
       "model_id": "",
       "version_major": 2,
       "version_minor": 0
      },
      "text/plain": [
       "FloatProgress(value=0.0, bar_style='info', description='Progress:', layout=Layout(height='25px', width='50%'),…"
      ]
     },
     "metadata": {},
     "output_type": "display_data"
    },
    {
     "name": "stdout",
     "output_type": "stream",
     "text": [
      "<pyspark.sql.session.SparkSession object at 0x7f5204e6cc50>"
     ]
    }
   ],
   "source": [
    "spark"
   ]
  },
  {
   "cell_type": "markdown",
   "id": "44960574",
   "metadata": {},
   "source": [
    "# Define schema"
   ]
  },
  {
   "cell_type": "code",
   "execution_count": 2,
   "id": "bd39b531",
   "metadata": {},
   "outputs": [
    {
     "data": {
      "application/vnd.jupyter.widget-view+json": {
       "model_id": "c52874220bd245e0af7b04c43adcc2a4",
       "version_major": 2,
       "version_minor": 0
      },
      "text/plain": [
       "VBox()"
      ]
     },
     "metadata": {},
     "output_type": "display_data"
    },
    {
     "data": {
      "application/vnd.jupyter.widget-view+json": {
       "model_id": "",
       "version_major": 2,
       "version_minor": 0
      },
      "text/plain": [
       "FloatProgress(value=0.0, bar_style='info', description='Progress:', layout=Layout(height='25px', width='50%'),…"
      ]
     },
     "metadata": {},
     "output_type": "display_data"
    }
   ],
   "source": [
    "from pyspark.sql.types import StructType, StructField, IntegerType, StringType, DoubleType\n",
    "schema = StructType([\n",
    "                        StructField(name='year', dataType=IntegerType(), nullable=True),\n",
    "                        StructField(name='month', dataType=StringType(), nullable=True),\n",
    "                        StructField(name='day', dataType=IntegerType(), nullable=True),\n",
    "                        StructField(name='weekday', dataType=StringType(), nullable=True),\n",
    "                        StructField(name='hour', dataType=IntegerType(), nullable=True),\n",
    "                        StructField(name='atm_status', dataType=StringType(), nullable=True),\n",
    "                        StructField(name='atm_id', dataType=StringType(), nullable=True),\n",
    "                        StructField(name='atm_manufacturer', dataType=StringType(), nullable=True),\n",
    "                        StructField(name='atm_location', dataType=StringType(), nullable=True),\n",
    "                        StructField(name='atm_streetname', dataType=StringType(), nullable=True),\n",
    "                        StructField(name='atm_street_number', dataType=IntegerType(), nullable=True),\n",
    "                        StructField(name='atm_zipcode', dataType=IntegerType(), nullable=True),\n",
    "                        StructField(name='atm_lat', dataType=DoubleType(), nullable=True),\n",
    "                        StructField(name='atm_lon', dataType=DoubleType(), nullable=True),\n",
    "                        StructField(name='currency', dataType=StringType(), nullable=True),\n",
    "                        StructField(name='card_type', dataType=StringType(), nullable=True),\n",
    "                        StructField(name='transaction_amount', dataType=IntegerType(), nullable=True),\n",
    "                        StructField(name='service', dataType=StringType(), nullable=True),\n",
    "                        StructField(name='message_code', dataType=StringType(), nullable=True),\n",
    "                        StructField(name='message_text', dataType=StringType(), nullable=True),\n",
    "                        StructField(name='weather_lat', dataType=DoubleType(), nullable=True),\n",
    "                        StructField(name='weather_lon', dataType=DoubleType(), nullable=True),\n",
    "                        StructField(name='weather_city_id', dataType=IntegerType(), nullable=True),\n",
    "                        StructField(name='weather_city_name', dataType=StringType(), nullable=True),\n",
    "                        StructField(name='temp', dataType=DoubleType(), nullable=True),\n",
    "                        StructField(name='pressure', dataType=IntegerType(), nullable=True),\n",
    "                        StructField(name='humidity', dataType=IntegerType(), nullable=True),\n",
    "                        StructField(name='wind_speed', dataType=IntegerType(), nullable=True),\n",
    "                        StructField(name='wind_deg', dataType=IntegerType(), nullable=True),\n",
    "                        StructField(name='rain_3h', dataType=DoubleType(), nullable=True),\n",
    "                        StructField(name='clouds_all', dataType=IntegerType(), nullable=True),\n",
    "                        StructField(name='weather_id', dataType=IntegerType(), nullable=True),\n",
    "                        StructField(name='weather_main', dataType=StringType(), nullable=True),\n",
    "                        StructField(name='weather_description', dataType=StringType(), nullable=True)\n",
    "                ])"
   ]
  },
  {
   "cell_type": "markdown",
   "id": "0e0f6a66",
   "metadata": {},
   "source": [
    "# Read the data into a dataframe and verify the records loaded"
   ]
  },
  {
   "cell_type": "code",
   "execution_count": 3,
   "id": "76e27f05",
   "metadata": {},
   "outputs": [
    {
     "data": {
      "application/vnd.jupyter.widget-view+json": {
       "model_id": "150562e768cd41bf9061975dbfd6f2cf",
       "version_major": 2,
       "version_minor": 0
      },
      "text/plain": [
       "VBox()"
      ]
     },
     "metadata": {},
     "output_type": "display_data"
    },
    {
     "data": {
      "application/vnd.jupyter.widget-view+json": {
       "model_id": "",
       "version_major": 2,
       "version_minor": 0
      },
      "text/plain": [
       "FloatProgress(value=0.0, bar_style='info', description='Progress:', layout=Layout(height='25px', width='50%'),…"
      ]
     },
     "metadata": {},
     "output_type": "display_data"
    },
    {
     "name": "stdout",
     "output_type": "stream",
     "text": [
      "root\n",
      " |-- year: integer (nullable = true)\n",
      " |-- month: string (nullable = true)\n",
      " |-- day: integer (nullable = true)\n",
      " |-- weekday: string (nullable = true)\n",
      " |-- hour: integer (nullable = true)\n",
      " |-- atm_status: string (nullable = true)\n",
      " |-- atm_id: string (nullable = true)\n",
      " |-- atm_manufacturer: string (nullable = true)\n",
      " |-- atm_location: string (nullable = true)\n",
      " |-- atm_streetname: string (nullable = true)\n",
      " |-- atm_street_number: integer (nullable = true)\n",
      " |-- atm_zipcode: integer (nullable = true)\n",
      " |-- atm_lat: double (nullable = true)\n",
      " |-- atm_lon: double (nullable = true)\n",
      " |-- currency: string (nullable = true)\n",
      " |-- card_type: string (nullable = true)\n",
      " |-- transaction_amount: integer (nullable = true)\n",
      " |-- service: string (nullable = true)\n",
      " |-- message_code: string (nullable = true)\n",
      " |-- message_text: string (nullable = true)\n",
      " |-- weather_lat: double (nullable = true)\n",
      " |-- weather_lon: double (nullable = true)\n",
      " |-- weather_city_id: integer (nullable = true)\n",
      " |-- weather_city_name: string (nullable = true)\n",
      " |-- temp: double (nullable = true)\n",
      " |-- pressure: integer (nullable = true)\n",
      " |-- humidity: integer (nullable = true)\n",
      " |-- wind_speed: integer (nullable = true)\n",
      " |-- wind_deg: integer (nullable = true)\n",
      " |-- rain_3h: double (nullable = true)\n",
      " |-- clouds_all: integer (nullable = true)\n",
      " |-- weather_id: integer (nullable = true)\n",
      " |-- weather_main: string (nullable = true)\n",
      " |-- weather_description: string (nullable = true)\n",
      "\n",
      "2468572"
     ]
    }
   ],
   "source": [
    "transactions = spark.read.csv(\"SRC_ATM_TRANS/part-m-00000\", header=False, schema=schema)\n",
    "transactions.printSchema()\n",
    "transactions.select(\"*\").count()"
   ]
  },
  {
   "cell_type": "markdown",
   "id": "6a9d1494",
   "metadata": {},
   "source": [
    "# Create the dimension and fact tables"
   ]
  },
  {
   "cell_type": "markdown",
   "id": "3f41817b",
   "metadata": {},
   "source": [
    "### Dimension for card types"
   ]
  },
  {
   "cell_type": "code",
   "execution_count": 4,
   "id": "4b2c20b6",
   "metadata": {},
   "outputs": [
    {
     "data": {
      "application/vnd.jupyter.widget-view+json": {
       "model_id": "28144f53bafd4bec87ed53ccc10d0721",
       "version_major": 2,
       "version_minor": 0
      },
      "text/plain": [
       "VBox()"
      ]
     },
     "metadata": {},
     "output_type": "display_data"
    },
    {
     "data": {
      "application/vnd.jupyter.widget-view+json": {
       "model_id": "",
       "version_major": 2,
       "version_minor": 0
      },
      "text/plain": [
       "FloatProgress(value=0.0, bar_style='info', description='Progress:', layout=Layout(height='25px', width='50%'),…"
      ]
     },
     "metadata": {},
     "output_type": "display_data"
    }
   ],
   "source": [
    "from pyspark.sql.window import Window\n",
    "from pyspark.sql.functions import row_number, col\n",
    "\n",
    "dim_card_type = transactions.select(\"card_type\").distinct()\\\n",
    "                            .withColumn(\"card_type_id\", \n",
    "                                        row_number().over(Window.partitionBy().orderBy(col(\"card_type\"))))\\\n",
    "                            .select(\"card_type_id\", \"card_type\")\n"
   ]
  },
  {
   "cell_type": "markdown",
   "id": "9ea00e41",
   "metadata": {},
   "source": [
    "### Validate dim_card_type"
   ]
  },
  {
   "cell_type": "code",
   "execution_count": 5,
   "id": "fb85b468",
   "metadata": {
    "scrolled": true
   },
   "outputs": [
    {
     "data": {
      "application/vnd.jupyter.widget-view+json": {
       "model_id": "74f9b01c719d4828a19e50d1991384c8",
       "version_major": 2,
       "version_minor": 0
      },
      "text/plain": [
       "VBox()"
      ]
     },
     "metadata": {},
     "output_type": "display_data"
    },
    {
     "data": {
      "application/vnd.jupyter.widget-view+json": {
       "model_id": "",
       "version_major": 2,
       "version_minor": 0
      },
      "text/plain": [
       "FloatProgress(value=0.0, bar_style='info', description='Progress:', layout=Layout(height='25px', width='50%'),…"
      ]
     },
     "metadata": {},
     "output_type": "display_data"
    },
    {
     "name": "stdout",
     "output_type": "stream",
     "text": [
      "root\n",
      " |-- card_type_id: integer (nullable = true)\n",
      " |-- card_type: string (nullable = true)\n",
      "\n",
      "+------------+--------------------+\n",
      "|card_type_id|           card_type|\n",
      "+------------+--------------------+\n",
      "|           1|              CIRRUS|\n",
      "|           2|             Dankort|\n",
      "|           3|     Dankort - on-us|\n",
      "|           4|         HÃƒÂ¦vekort|\n",
      "|           5| HÃƒÂ¦vekort - on-us|\n",
      "|           6|             Maestro|\n",
      "|           7|          MasterCard|\n",
      "|           8|  Mastercard - on-us|\n",
      "|           9|                VISA|\n",
      "|          10|        Visa Dankort|\n",
      "|          11|Visa Dankort - on-us|\n",
      "|          12|            VisaPlus|\n",
      "+------------+--------------------+\n",
      "\n",
      "12"
     ]
    }
   ],
   "source": [
    "dim_card_type.printSchema()\n",
    "dim_card_type.show()\n",
    "dim_card_type.select(\"*\").count()"
   ]
  },
  {
   "cell_type": "markdown",
   "id": "b3b90f8b",
   "metadata": {},
   "source": [
    "### Dimension for dates"
   ]
  },
  {
   "cell_type": "code",
   "execution_count": 6,
   "id": "e7c69d41",
   "metadata": {
    "scrolled": true
   },
   "outputs": [
    {
     "data": {
      "application/vnd.jupyter.widget-view+json": {
       "model_id": "69362eaeba73478aab316ff9053c20fe",
       "version_major": 2,
       "version_minor": 0
      },
      "text/plain": [
       "VBox()"
      ]
     },
     "metadata": {},
     "output_type": "display_data"
    },
    {
     "data": {
      "application/vnd.jupyter.widget-view+json": {
       "model_id": "",
       "version_major": 2,
       "version_minor": 0
      },
      "text/plain": [
       "FloatProgress(value=0.0, bar_style='info', description='Progress:', layout=Layout(height='25px', width='50%'),…"
      ]
     },
     "metadata": {},
     "output_type": "display_data"
    }
   ],
   "source": [
    "from pyspark.sql.functions import concat_ws, lit, unix_timestamp\n",
    "\n",
    "timestamp_format = \"yyyy-MMM-dd HH:mm:ss\"\n",
    "\n",
    "dim_date = transactions.select(\"year\", \"month\", \"day\", \"hour\", \"weekday\")\\\n",
    "                       .withColumn(\"full_date_time\", \n",
    "                                   unix_timestamp(\n",
    "                                       concat_ws(\" \", \n",
    "                                                 concat_ws('-', col(\"year\"), col(\"month\"), col(\"day\")), \n",
    "                                                 concat_ws(':', col(\"hour\"), lit(\"00:00\"))\n",
    "                                                ), \n",
    "                                       timestamp_format\n",
    "                                   ).cast(\"timestamp\")\n",
    "                                  )\\\n",
    "                        .distinct()\\\n",
    "                        .withColumn(\"date_id\", row_number().over(Window.partitionBy().orderBy(col(\"full_date_time\"))))\\\n",
    "                        .select(\"date_id\", \"full_date_time\", \"year\", \"month\", \"day\", \"hour\", \"weekday\")"
   ]
  },
  {
   "cell_type": "markdown",
   "id": "575cf2d8",
   "metadata": {},
   "source": [
    "### Validate dim_date"
   ]
  },
  {
   "cell_type": "code",
   "execution_count": 7,
   "id": "02a4b17d",
   "metadata": {},
   "outputs": [
    {
     "data": {
      "application/vnd.jupyter.widget-view+json": {
       "model_id": "ae8e0231150a4bb593dbdb90f7d729c5",
       "version_major": 2,
       "version_minor": 0
      },
      "text/plain": [
       "VBox()"
      ]
     },
     "metadata": {},
     "output_type": "display_data"
    },
    {
     "data": {
      "application/vnd.jupyter.widget-view+json": {
       "model_id": "",
       "version_major": 2,
       "version_minor": 0
      },
      "text/plain": [
       "FloatProgress(value=0.0, bar_style='info', description='Progress:', layout=Layout(height='25px', width='50%'),…"
      ]
     },
     "metadata": {},
     "output_type": "display_data"
    },
    {
     "name": "stdout",
     "output_type": "stream",
     "text": [
      "root\n",
      " |-- date_id: integer (nullable = true)\n",
      " |-- full_date_time: timestamp (nullable = true)\n",
      " |-- year: integer (nullable = true)\n",
      " |-- month: string (nullable = true)\n",
      " |-- day: integer (nullable = true)\n",
      " |-- hour: integer (nullable = true)\n",
      " |-- weekday: string (nullable = true)\n",
      "\n",
      "+-------+-------------------+----+-------+---+----+-------+\n",
      "|date_id|     full_date_time|year|  month|day|hour|weekday|\n",
      "+-------+-------------------+----+-------+---+----+-------+\n",
      "|      1|2017-01-01 00:00:00|2017|January|  1|   0| Sunday|\n",
      "|      2|2017-01-01 01:00:00|2017|January|  1|   1| Sunday|\n",
      "|      3|2017-01-01 02:00:00|2017|January|  1|   2| Sunday|\n",
      "|      4|2017-01-01 03:00:00|2017|January|  1|   3| Sunday|\n",
      "|      5|2017-01-01 04:00:00|2017|January|  1|   4| Sunday|\n",
      "|      6|2017-01-01 05:00:00|2017|January|  1|   5| Sunday|\n",
      "|      7|2017-01-01 06:00:00|2017|January|  1|   6| Sunday|\n",
      "|      8|2017-01-01 07:00:00|2017|January|  1|   7| Sunday|\n",
      "|      9|2017-01-01 08:00:00|2017|January|  1|   8| Sunday|\n",
      "|     10|2017-01-01 09:00:00|2017|January|  1|   9| Sunday|\n",
      "|     11|2017-01-01 10:00:00|2017|January|  1|  10| Sunday|\n",
      "|     12|2017-01-01 11:00:00|2017|January|  1|  11| Sunday|\n",
      "|     13|2017-01-01 12:00:00|2017|January|  1|  12| Sunday|\n",
      "|     14|2017-01-01 13:00:00|2017|January|  1|  13| Sunday|\n",
      "|     15|2017-01-01 14:00:00|2017|January|  1|  14| Sunday|\n",
      "|     16|2017-01-01 15:00:00|2017|January|  1|  15| Sunday|\n",
      "|     17|2017-01-01 16:00:00|2017|January|  1|  16| Sunday|\n",
      "|     18|2017-01-01 17:00:00|2017|January|  1|  17| Sunday|\n",
      "|     19|2017-01-01 18:00:00|2017|January|  1|  18| Sunday|\n",
      "|     20|2017-01-01 19:00:00|2017|January|  1|  19| Sunday|\n",
      "+-------+-------------------+----+-------+---+----+-------+\n",
      "only showing top 20 rows\n",
      "\n",
      "8685"
     ]
    }
   ],
   "source": [
    "dim_date.printSchema()\n",
    "dim_date.show()\n",
    "dim_date.select(\"*\").count()"
   ]
  },
  {
   "cell_type": "markdown",
   "id": "1142627a",
   "metadata": {},
   "source": [
    "### Dimension for locations"
   ]
  },
  {
   "cell_type": "code",
   "execution_count": 8,
   "id": "ed72a92f",
   "metadata": {},
   "outputs": [
    {
     "data": {
      "application/vnd.jupyter.widget-view+json": {
       "model_id": "effe40c1d7c3411cad5a20af0497d6d4",
       "version_major": 2,
       "version_minor": 0
      },
      "text/plain": [
       "VBox()"
      ]
     },
     "metadata": {},
     "output_type": "display_data"
    },
    {
     "data": {
      "application/vnd.jupyter.widget-view+json": {
       "model_id": "",
       "version_major": 2,
       "version_minor": 0
      },
      "text/plain": [
       "FloatProgress(value=0.0, bar_style='info', description='Progress:', layout=Layout(height='25px', width='50%'),…"
      ]
     },
     "metadata": {},
     "output_type": "display_data"
    }
   ],
   "source": [
    "dim_location = transactions.select(\"atm_location\", \"atm_streetname\", \"atm_street_number\", \n",
    "                                   \"atm_zipcode\", \"atm_lat\", \"atm_lon\")\\\n",
    "                           .withColumnRenamed(\"atm_location\", \"location\")\\\n",
    "                           .withColumnRenamed(\"atm_streetname\", \"streetname\")\\\n",
    "                           .withColumnRenamed(\"atm_street_number\", \"street_number\")\\\n",
    "                           .withColumnRenamed(\"atm_zipcode\", \"zipcode\")\\\n",
    "                           .withColumnRenamed(\"atm_lat\", \"lat\")\\\n",
    "                           .withColumnRenamed(\"atm_lon\", \"lon\")\\\n",
    "                           .distinct()\\\n",
    "                           .withColumn(\"location_id\", row_number().over(Window.partitionBy().orderBy(col(\"zipcode\"))))\\\n",
    "                           .select(\"location_id\", \"location\", \"streetname\",\n",
    "                                  \"street_number\", \"zipcode\", \"lat\", \"lon\")"
   ]
  },
  {
   "cell_type": "markdown",
   "id": "40ff9481",
   "metadata": {},
   "source": [
    "### Validate dim_location"
   ]
  },
  {
   "cell_type": "code",
   "execution_count": 9,
   "id": "a2a7ab22",
   "metadata": {},
   "outputs": [
    {
     "data": {
      "application/vnd.jupyter.widget-view+json": {
       "model_id": "db28a408f94744ae89b8b1cceab5bae1",
       "version_major": 2,
       "version_minor": 0
      },
      "text/plain": [
       "VBox()"
      ]
     },
     "metadata": {},
     "output_type": "display_data"
    },
    {
     "data": {
      "application/vnd.jupyter.widget-view+json": {
       "model_id": "",
       "version_major": 2,
       "version_minor": 0
      },
      "text/plain": [
       "FloatProgress(value=0.0, bar_style='info', description='Progress:', layout=Layout(height='25px', width='50%'),…"
      ]
     },
     "metadata": {},
     "output_type": "display_data"
    },
    {
     "name": "stdout",
     "output_type": "stream",
     "text": [
      "root\n",
      " |-- location_id: integer (nullable = true)\n",
      " |-- location: string (nullable = true)\n",
      " |-- streetname: string (nullable = true)\n",
      " |-- street_number: integer (nullable = true)\n",
      " |-- zipcode: integer (nullable = true)\n",
      " |-- lat: double (nullable = true)\n",
      " |-- lon: double (nullable = true)\n",
      "\n",
      "+-----------+--------------------+------------------+-------------+-------+------+------+\n",
      "|location_id|            location|        streetname|street_number|zipcode|   lat|   lon|\n",
      "+-----------+--------------------+------------------+-------------+-------+------+------+\n",
      "|          1|        KÃƒÂ¸benhavn|    Regnbuepladsen|            5|   1550|55.676|12.571|\n",
      "|          2|Intern  KÃƒÂ¸benhavn|  RÃƒÂ¥dhuspladsen|           75|   1550|55.676|12.571|\n",
      "|          3|       Frederiksberg|   Gammel Kongevej|          157|   1850|55.677|12.537|\n",
      "|          4|              Lyngby|       Jernbanevej|            6|   2800|55.772|  12.5|\n",
      "|          5|        HelsingÃƒÂ¸r|    Sct. Olai Gade|           39|   3000|56.036|12.612|\n",
      "|          6|HillerÃƒÂ¸d IdrÃƒ...|        Milnersvej|           39|   3400|55.921|12.299|\n",
      "|          7|         HillerÃƒÂ¸d|  KÃƒÂ¸benhavnsvej|           31|   3400|55.933|12.314|\n",
      "|          8|    Intern  Roskilde|  KÃƒÂ¸benhavnsvej|           65|   4000|55.642|12.106|\n",
      "|          9|          Svogerslev|      BrÃƒÂ¸nsager|            1|   4000|55.634|12.018|\n",
      "|         10|            Roskilde|  KÃƒÂ¸benhavnsvej|           65|   4000|55.642|12.106|\n",
      "|         11|            Slagelse|   Mariendals Alle|           29|   4200|55.398|11.342|\n",
      "|         12|            Slagelse|Mariendals AllÃƒÂ¨|           29|   4200|55.398|11.342|\n",
      "|         13|           HolbÃƒÂ¦k|       Slotsvolden|            7|   4300|55.718|11.704|\n",
      "|         14|    Intern HolbÃƒÂ¦k|       Slotsvolden|            7|   4300|55.718|11.704|\n",
      "|         15|             KÃƒÂ¸ge|    SÃƒÂ¸ndre Alle|            1|   4600|55.454|12.181|\n",
      "|         16|          NÃƒÂ¦stved|      Farimagsgade|            8|   4700| 55.69|12.575|\n",
      "|         17|          NÃƒÂ¦stved|       Farimagsvej|            8|   4700|55.233|11.763|\n",
      "|         18|      Intern  Odense|      FÃƒÂ¦lledvej|            3|   5000|55.394| 10.37|\n",
      "|         19|              Odense|      FÃƒÂ¦lledvej|            3|   5000|55.394| 10.37|\n",
      "|         20|          Middelfart|           Brogade|            9|   5500|55.507| 9.727|\n",
      "+-----------+--------------------+------------------+-------------+-------+------+------+\n",
      "only showing top 20 rows\n",
      "\n",
      "109"
     ]
    }
   ],
   "source": [
    "dim_location.printSchema()\n",
    "dim_location.show()\n",
    "dim_location.select(\"*\").count()"
   ]
  },
  {
   "cell_type": "markdown",
   "id": "0067b3fe",
   "metadata": {},
   "source": [
    "### Dimension for ATMs"
   ]
  },
  {
   "cell_type": "code",
   "execution_count": 10,
   "id": "2aae229a",
   "metadata": {},
   "outputs": [
    {
     "data": {
      "application/vnd.jupyter.widget-view+json": {
       "model_id": "4dc386a2526b470faeae8abdc45be7f8",
       "version_major": 2,
       "version_minor": 0
      },
      "text/plain": [
       "VBox()"
      ]
     },
     "metadata": {},
     "output_type": "display_data"
    },
    {
     "data": {
      "application/vnd.jupyter.widget-view+json": {
       "model_id": "",
       "version_major": 2,
       "version_minor": 0
      },
      "text/plain": [
       "FloatProgress(value=0.0, bar_style='info', description='Progress:', layout=Layout(height='25px', width='50%'),…"
      ]
     },
     "metadata": {},
     "output_type": "display_data"
    }
   ],
   "source": [
    "from pyspark.sql.functions import concat\n",
    "\n",
    "dim_atm = transactions.select(\"atm_id\", \"atm_manufacturer\", \"atm_lat\", \"atm_lon\")\\\n",
    "                      .withColumnRenamed(\"atm_id\", \"atm_number\")\\\n",
    "                      .join(other=dim_location, \n",
    "                            on=(concat(col(\"atm_lat\"), col(\"atm_lon\")) == concat(col(\"lat\"), col(\"lon\"))), \n",
    "                            how=\"left\")\\\n",
    "                      .select(\"location_id\", \"atm_number\", \"atm_manufacturer\")\\\n",
    "                      .withColumnRenamed(\"location_id\", \"atm_location_id\")\\\n",
    "                      .distinct()\\\n",
    "                      .withColumn(\"atm_id\", row_number().over(Window.partitionBy().orderBy(col(\"atm_location_id\"))))\\\n",
    "                      .select(\"atm_id\", \"atm_location_id\", \"atm_number\", \"atm_manufacturer\")"
   ]
  },
  {
   "cell_type": "markdown",
   "id": "974fece0",
   "metadata": {},
   "source": [
    "### Validate dim_atm"
   ]
  },
  {
   "cell_type": "code",
   "execution_count": 11,
   "id": "60262212",
   "metadata": {},
   "outputs": [
    {
     "data": {
      "application/vnd.jupyter.widget-view+json": {
       "model_id": "448f9dcad784495989d2d899f19e96b7",
       "version_major": 2,
       "version_minor": 0
      },
      "text/plain": [
       "VBox()"
      ]
     },
     "metadata": {},
     "output_type": "display_data"
    },
    {
     "data": {
      "application/vnd.jupyter.widget-view+json": {
       "model_id": "",
       "version_major": 2,
       "version_minor": 0
      },
      "text/plain": [
       "FloatProgress(value=0.0, bar_style='info', description='Progress:', layout=Layout(height='25px', width='50%'),…"
      ]
     },
     "metadata": {},
     "output_type": "display_data"
    },
    {
     "name": "stdout",
     "output_type": "stream",
     "text": [
      "root\n",
      " |-- atm_id: integer (nullable = true)\n",
      " |-- atm_location_id: integer (nullable = true)\n",
      " |-- atm_number: string (nullable = true)\n",
      " |-- atm_manufacturer: string (nullable = true)\n",
      "\n",
      "+------+---------------+----------+----------------+\n",
      "|atm_id|atm_location_id|atm_number|atm_manufacturer|\n",
      "+------+---------------+----------+----------------+\n",
      "|     1|              1|        95|             NCR|\n",
      "|     2|              1|        85| Diebold Nixdorf|\n",
      "|     3|              2|        85| Diebold Nixdorf|\n",
      "|     4|              2|        95|             NCR|\n",
      "|     5|              3|        47|             NCR|\n",
      "|     6|              4|        44|             NCR|\n",
      "|     7|              5|        46| Diebold Nixdorf|\n",
      "|     8|              6|        86|             NCR|\n",
      "|     9|              7|        57|             NCR|\n",
      "|    10|              8|        22|             NCR|\n",
      "|    11|              8|       106|             NCR|\n",
      "|    12|              9|         4|             NCR|\n",
      "|    13|             10|        22|             NCR|\n",
      "|    14|             10|       106|             NCR|\n",
      "|    15|             11|        31|             NCR|\n",
      "|    16|             11|       113| Diebold Nixdorf|\n",
      "|    17|             12|       113| Diebold Nixdorf|\n",
      "|    18|             12|        31|             NCR|\n",
      "|    19|             13|        26|             NCR|\n",
      "|    20|             13|        90|             NCR|\n",
      "+------+---------------+----------+----------------+\n",
      "only showing top 20 rows\n",
      "\n",
      "156"
     ]
    }
   ],
   "source": [
    "dim_atm.printSchema()\n",
    "dim_atm.show()\n",
    "dim_atm.select(\"*\").count()"
   ]
  },
  {
   "cell_type": "code",
   "execution_count": null,
   "id": "e898f42a",
   "metadata": {},
   "outputs": [],
   "source": []
  }
 ],
 "metadata": {
  "kernelspec": {
   "display_name": "PySpark",
   "language": "",
   "name": "pysparkkernel"
  },
  "language_info": {
   "codemirror_mode": {
    "name": "python",
    "version": 2
   },
   "mimetype": "text/x-python",
   "name": "pyspark",
   "pygments_lexer": "python2"
  }
 },
 "nbformat": 4,
 "nbformat_minor": 5
}
