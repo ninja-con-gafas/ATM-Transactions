{
 "cells": [
  {
   "cell_type": "code",
   "execution_count": 1,
   "id": "0b23a473",
   "metadata": {},
   "outputs": [
    {
     "data": {
      "application/vnd.jupyter.widget-view+json": {
       "model_id": "b723b28c3e664afdb5e8d2716bedebc3",
       "version_major": 2,
       "version_minor": 0
      },
      "text/plain": [
       "VBox()"
      ]
     },
     "metadata": {},
     "output_type": "display_data"
    },
    {
     "name": "stdout",
     "output_type": "stream",
     "text": [
      "Starting Spark application\n"
     ]
    },
    {
     "data": {
      "text/html": [
       "<table>\n",
       "<tr><th>ID</th><th>YARN Application ID</th><th>Kind</th><th>State</th><th>Spark UI</th><th>Driver log</th><th>Current session?</th></tr><tr><td>1</td><td>application_1652950726143_0003</td><td>pyspark</td><td>idle</td><td><a target=\"_blank\" href=\"http://ip-10-0-0-81.ec2.internal:20888/proxy/application_1652950726143_0003/\">Link</a></td><td><a target=\"_blank\" href=\"http://ip-10-0-0-98.ec2.internal:8042/node/containerlogs/container_1652950726143_0003_01_000001/livy\">Link</a></td><td>✔</td></tr></table>"
      ],
      "text/plain": [
       "<IPython.core.display.HTML object>"
      ]
     },
     "metadata": {},
     "output_type": "display_data"
    },
    {
     "data": {
      "application/vnd.jupyter.widget-view+json": {
       "model_id": "",
       "version_major": 2,
       "version_minor": 0
      },
      "text/plain": [
       "FloatProgress(value=0.0, bar_style='info', description='Progress:', layout=Layout(height='25px', width='50%'),…"
      ]
     },
     "metadata": {},
     "output_type": "display_data"
    },
    {
     "name": "stdout",
     "output_type": "stream",
     "text": [
      "SparkSession available as 'spark'.\n"
     ]
    },
    {
     "data": {
      "application/vnd.jupyter.widget-view+json": {
       "model_id": "",
       "version_major": 2,
       "version_minor": 0
      },
      "text/plain": [
       "FloatProgress(value=0.0, bar_style='info', description='Progress:', layout=Layout(height='25px', width='50%'),…"
      ]
     },
     "metadata": {},
     "output_type": "display_data"
    },
    {
     "name": "stdout",
     "output_type": "stream",
     "text": [
      "<pyspark.sql.session.SparkSession object at 0x7fd6fcef6a90>"
     ]
    }
   ],
   "source": [
    "spark"
   ]
  },
  {
   "cell_type": "markdown",
   "id": "44960574",
   "metadata": {},
   "source": [
    "# Define schema"
   ]
  },
  {
   "cell_type": "code",
   "execution_count": 2,
   "id": "bd39b531",
   "metadata": {},
   "outputs": [
    {
     "data": {
      "application/vnd.jupyter.widget-view+json": {
       "model_id": "9da592e1a1d04efd99a2cb5fc6704dc2",
       "version_major": 2,
       "version_minor": 0
      },
      "text/plain": [
       "VBox()"
      ]
     },
     "metadata": {},
     "output_type": "display_data"
    },
    {
     "data": {
      "application/vnd.jupyter.widget-view+json": {
       "model_id": "",
       "version_major": 2,
       "version_minor": 0
      },
      "text/plain": [
       "FloatProgress(value=0.0, bar_style='info', description='Progress:', layout=Layout(height='25px', width='50%'),…"
      ]
     },
     "metadata": {},
     "output_type": "display_data"
    }
   ],
   "source": [
    "from pyspark.sql.types import StructType, StructField, IntegerType, StringType, DoubleType\n",
    "schema = StructType([\n",
    "                        StructField(name='year', dataType=IntegerType(), nullable=True),\n",
    "                        StructField(name='month', dataType=StringType(), nullable=True),\n",
    "                        StructField(name='day', dataType=IntegerType(), nullable=True),\n",
    "                        StructField(name='weekday', dataType=StringType(), nullable=True),\n",
    "                        StructField(name='hour', dataType=IntegerType(), nullable=True),\n",
    "                        StructField(name='atm_status', dataType=StringType(), nullable=True),\n",
    "                        StructField(name='atm_id', dataType=StringType(), nullable=True),\n",
    "                        StructField(name='atm_manufacturer', dataType=StringType(), nullable=True),\n",
    "                        StructField(name='atm_location', dataType=StringType(), nullable=True),\n",
    "                        StructField(name='atm_streetname', dataType=StringType(), nullable=True),\n",
    "                        StructField(name='atm_street_number', dataType=IntegerType(), nullable=True),\n",
    "                        StructField(name='atm_zipcode', dataType=IntegerType(), nullable=True),\n",
    "                        StructField(name='atm_lat', dataType=DoubleType(), nullable=True),\n",
    "                        StructField(name='atm_lon', dataType=DoubleType(), nullable=True),\n",
    "                        StructField(name='currency', dataType=StringType(), nullable=True),\n",
    "                        StructField(name='card_type', dataType=StringType(), nullable=True),\n",
    "                        StructField(name='transaction_amount', dataType=IntegerType(), nullable=True),\n",
    "                        StructField(name='service', dataType=StringType(), nullable=True),\n",
    "                        StructField(name='message_code', dataType=StringType(), nullable=True),\n",
    "                        StructField(name='message_text', dataType=StringType(), nullable=True),\n",
    "                        StructField(name='weather_lat', dataType=DoubleType(), nullable=True),\n",
    "                        StructField(name='weather_lon', dataType=DoubleType(), nullable=True),\n",
    "                        StructField(name='weather_city_id', dataType=IntegerType(), nullable=True),\n",
    "                        StructField(name='weather_city_name', dataType=StringType(), nullable=True),\n",
    "                        StructField(name='temp', dataType=DoubleType(), nullable=True),\n",
    "                        StructField(name='pressure', dataType=IntegerType(), nullable=True),\n",
    "                        StructField(name='humidity', dataType=IntegerType(), nullable=True),\n",
    "                        StructField(name='wind_speed', dataType=IntegerType(), nullable=True),\n",
    "                        StructField(name='wind_deg', dataType=IntegerType(), nullable=True),\n",
    "                        StructField(name='rain_3h', dataType=DoubleType(), nullable=True),\n",
    "                        StructField(name='clouds_all', dataType=IntegerType(), nullable=True),\n",
    "                        StructField(name='weather_id', dataType=IntegerType(), nullable=True),\n",
    "                        StructField(name='weather_main', dataType=StringType(), nullable=True),\n",
    "                        StructField(name='weather_description', dataType=StringType(), nullable=True)\n",
    "                ])"
   ]
  },
  {
   "cell_type": "markdown",
   "id": "0e0f6a66",
   "metadata": {},
   "source": [
    "# Read the data into a dataframe and verify the records loaded"
   ]
  },
  {
   "cell_type": "code",
   "execution_count": 3,
   "id": "76e27f05",
   "metadata": {},
   "outputs": [
    {
     "data": {
      "application/vnd.jupyter.widget-view+json": {
       "model_id": "2179e756c96d497c8aac66ad238d24ed",
       "version_major": 2,
       "version_minor": 0
      },
      "text/plain": [
       "VBox()"
      ]
     },
     "metadata": {},
     "output_type": "display_data"
    },
    {
     "data": {
      "application/vnd.jupyter.widget-view+json": {
       "model_id": "",
       "version_major": 2,
       "version_minor": 0
      },
      "text/plain": [
       "FloatProgress(value=0.0, bar_style='info', description='Progress:', layout=Layout(height='25px', width='50%'),…"
      ]
     },
     "metadata": {},
     "output_type": "display_data"
    },
    {
     "name": "stdout",
     "output_type": "stream",
     "text": [
      "root\n",
      " |-- year: integer (nullable = true)\n",
      " |-- month: string (nullable = true)\n",
      " |-- day: integer (nullable = true)\n",
      " |-- weekday: string (nullable = true)\n",
      " |-- hour: integer (nullable = true)\n",
      " |-- atm_status: string (nullable = true)\n",
      " |-- atm_id: string (nullable = true)\n",
      " |-- atm_manufacturer: string (nullable = true)\n",
      " |-- atm_location: string (nullable = true)\n",
      " |-- atm_streetname: string (nullable = true)\n",
      " |-- atm_street_number: integer (nullable = true)\n",
      " |-- atm_zipcode: integer (nullable = true)\n",
      " |-- atm_lat: double (nullable = true)\n",
      " |-- atm_lon: double (nullable = true)\n",
      " |-- currency: string (nullable = true)\n",
      " |-- card_type: string (nullable = true)\n",
      " |-- transaction_amount: integer (nullable = true)\n",
      " |-- service: string (nullable = true)\n",
      " |-- message_code: string (nullable = true)\n",
      " |-- message_text: string (nullable = true)\n",
      " |-- weather_lat: double (nullable = true)\n",
      " |-- weather_lon: double (nullable = true)\n",
      " |-- weather_city_id: integer (nullable = true)\n",
      " |-- weather_city_name: string (nullable = true)\n",
      " |-- temp: double (nullable = true)\n",
      " |-- pressure: integer (nullable = true)\n",
      " |-- humidity: integer (nullable = true)\n",
      " |-- wind_speed: integer (nullable = true)\n",
      " |-- wind_deg: integer (nullable = true)\n",
      " |-- rain_3h: double (nullable = true)\n",
      " |-- clouds_all: integer (nullable = true)\n",
      " |-- weather_id: integer (nullable = true)\n",
      " |-- weather_main: string (nullable = true)\n",
      " |-- weather_description: string (nullable = true)\n",
      "\n",
      "2468572"
     ]
    }
   ],
   "source": [
    "transactions = spark.read.csv(\"SRC_ATM_TRANS/part-m-00000\", header=False, schema=schema)\n",
    "transactions.printSchema()\n",
    "transactions.select(\"*\").count()"
   ]
  }
 ],
 "metadata": {
  "kernelspec": {
   "display_name": "PySpark",
   "language": "",
   "name": "pysparkkernel"
  },
  "language_info": {
   "codemirror_mode": {
    "name": "python",
    "version": 2
   },
   "mimetype": "text/x-python",
   "name": "pyspark",
   "pygments_lexer": "python2"
  }
 },
 "nbformat": 4,
 "nbformat_minor": 5
}
